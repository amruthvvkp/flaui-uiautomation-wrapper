{
 "cells": [
  {
   "cell_type": "code",
   "execution_count": 1,
   "metadata": {},
   "outputs": [
    {
     "name": "stderr",
     "output_type": "stream",
     "text": [
      "2022-05-02 14:43:25.608 | INFO     | flaui.lib.pythonnet_bridge:setup_pythonnet_bridge:18 - Added FlaUI.Core DLL from C:\\Users\\amrut\\PythonProjects\\flaui-uiautomation-wrapper\\flaui\\bin\\FlaUI.Core.dll to PythonNet bridge\n",
      "2022-05-02 14:43:25.628 | INFO     | flaui.lib.pythonnet_bridge:setup_pythonnet_bridge:18 - Added FlaUI.UIA2 DLL from C:\\Users\\amrut\\PythonProjects\\flaui-uiautomation-wrapper\\flaui\\bin\\FlaUI.UIA2.dll to PythonNet bridge\n",
      "2022-05-02 14:43:25.647 | INFO     | flaui.lib.pythonnet_bridge:setup_pythonnet_bridge:18 - Added FlaUI.UIA3 DLL from C:\\Users\\amrut\\PythonProjects\\flaui-uiautomation-wrapper\\flaui\\bin\\FlaUI.UIA3.dll to PythonNet bridge\n",
      "2022-05-02 14:43:25.652 | INFO     | flaui.lib.pythonnet_bridge:setup_pythonnet_bridge:18 - Added Interop.UIAutomationClient DLL from C:\\Users\\amrut\\PythonProjects\\flaui-uiautomation-wrapper\\flaui\\bin\\Interop.UIAutomationClient.dll to PythonNet bridge\n",
      "2022-05-02 14:43:25.656 | INFO     | flaui.lib.pythonnet_bridge:setup_pythonnet_bridge:18 - Added FlaUI.Core DLL from C:\\Users\\amrut\\PythonProjects\\flaui-uiautomation-wrapper\\flaui\\bin\\FlaUI.Core.dll to PythonNet bridge\n",
      "2022-05-02 14:43:25.660 | INFO     | flaui.lib.pythonnet_bridge:setup_pythonnet_bridge:18 - Added FlaUI.UIA2 DLL from C:\\Users\\amrut\\PythonProjects\\flaui-uiautomation-wrapper\\flaui\\bin\\FlaUI.UIA2.dll to PythonNet bridge\n",
      "2022-05-02 14:43:25.664 | INFO     | flaui.lib.pythonnet_bridge:setup_pythonnet_bridge:18 - Added FlaUI.UIA3 DLL from C:\\Users\\amrut\\PythonProjects\\flaui-uiautomation-wrapper\\flaui\\bin\\FlaUI.UIA3.dll to PythonNet bridge\n",
      "2022-05-02 14:43:25.667 | INFO     | flaui.lib.pythonnet_bridge:setup_pythonnet_bridge:18 - Added Interop.UIAutomationClient DLL from C:\\Users\\amrut\\PythonProjects\\flaui-uiautomation-wrapper\\flaui\\bin\\Interop.UIAutomationClient.dll to PythonNet bridge\n"
     ]
    }
   ],
   "source": [
    "from flaui.lib.pythonnet_bridge import setup_pythonnet_bridge\n",
    "\n",
    "setup_pythonnet_bridge()"
   ]
  },
  {
   "cell_type": "code",
   "execution_count": 3,
   "metadata": {},
   "outputs": [],
   "source": [
    "import FlaUI.Core\n",
    "import FlaUI.UIA3"
   ]
  },
  {
   "cell_type": "code",
   "execution_count": 11,
   "metadata": {},
   "outputs": [],
   "source": [
    "from FlaUI.UIA3 import UIA3Automation\n",
    "from FlaUI.Core import Application\n",
    "automation = UIA3Automation()"
   ]
  },
  {
   "cell_type": "code",
   "execution_count": 12,
   "metadata": {},
   "outputs": [],
   "source": [
    "app = Application.Attach('notepad.exe')"
   ]
  },
  {
   "cell_type": "code",
   "execution_count": 7,
   "metadata": {},
   "outputs": [],
   "source": [
    "main_window = app.GetMainWindow(automation)"
   ]
  },
  {
   "cell_type": "code",
   "execution_count": 9,
   "metadata": {},
   "outputs": [],
   "source": [
    "from FlaUI.Core.Conditions import ConditionFactory"
   ]
  },
  {
   "cell_type": "code",
   "execution_count": 20,
   "metadata": {},
   "outputs": [],
   "source": [
    "cf = automation.ConditionFactory"
   ]
  },
  {
   "cell_type": "code",
   "execution_count": 18,
   "metadata": {},
   "outputs": [
    {
     "data": {
      "text/plain": [
       "<FlaUI.Core.Conditions.ConditionFactory object at 0x00000129C009FFA0>"
      ]
     },
     "execution_count": 18,
     "metadata": {},
     "output_type": "execute_result"
    }
   ],
   "source": []
  }
 ],
 "metadata": {
  "interpreter": {
   "hash": "09ca2d6abeb63e9f4810e2019cbf6d929ca8d02b005c8e4c6a01599b0c448cca"
  },
  "kernelspec": {
   "display_name": "Python 3.8.10 ('.venv': venv)",
   "language": "python",
   "name": "python3"
  },
  "language_info": {
   "codemirror_mode": {
    "name": "ipython",
    "version": 3
   },
   "file_extension": ".py",
   "mimetype": "text/x-python",
   "name": "python",
   "nbconvert_exporter": "python",
   "pygments_lexer": "ipython3",
   "version": "3.8.10"
  },
  "orig_nbformat": 4
 },
 "nbformat": 4,
 "nbformat_minor": 2
}
