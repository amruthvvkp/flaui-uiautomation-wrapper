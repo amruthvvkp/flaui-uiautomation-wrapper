{
 "cells": [
  {
   "cell_type": "code",
   "execution_count": 1,
   "metadata": {},
   "outputs": [
    {
     "name": "stderr",
     "output_type": "stream",
     "text": [
      "2022-07-08 19:56:04.480 | INFO     | flaui.lib.pythonnet_bridge:setup_pythonnet_bridge:27 - Added FlaUI.Core DLL from C:\\Users\\amrut\\PythonProjects\\flaui-uiautomation-wrapper\\src\\flaui\\bin\\FlaUI.Core.dll to PythonNet bridge\n",
      "2022-07-08 19:56:04.524 | INFO     | flaui.lib.pythonnet_bridge:setup_pythonnet_bridge:27 - Added FlaUI.UIA2 DLL from C:\\Users\\amrut\\PythonProjects\\flaui-uiautomation-wrapper\\src\\flaui\\bin\\FlaUI.UIA2.dll to PythonNet bridge\n",
      "2022-07-08 19:56:04.561 | INFO     | flaui.lib.pythonnet_bridge:setup_pythonnet_bridge:27 - Added FlaUI.UIA3 DLL from C:\\Users\\amrut\\PythonProjects\\flaui-uiautomation-wrapper\\src\\flaui\\bin\\FlaUI.UIA3.dll to PythonNet bridge\n",
      "2022-07-08 19:56:04.567 | INFO     | flaui.lib.pythonnet_bridge:setup_pythonnet_bridge:27 - Added Interop.UIAutomationClient DLL from C:\\Users\\amrut\\PythonProjects\\flaui-uiautomation-wrapper\\src\\flaui\\bin\\Interop.UIAutomationClient.dll to PythonNet bridge\n"
     ]
    }
   ],
   "source": [
    "from flaui.lib.pythonnet_bridge import setup_pythonnet_bridge\n",
    "\n",
    "setup_pythonnet_bridge(dll_list=[\n",
    "    'FlaUI.Core', 'FlaUI.UIA2', 'FlaUI.UIA3', 'Interop.UIAutomationClient'\n",
    "])\n"
   ]
  },
  {
   "cell_type": "code",
   "execution_count": 2,
   "metadata": {},
   "outputs": [],
   "source": [
    "from FlaUI.Core import Application\n",
    "# import inspect\n",
    "\n",
    "# from inspect import signature\n",
    "# def sample(s, f):\n",
    "#     pass\n",
    "\n",
    "# type(uiautomation.cf.ByAutomationId)"
   ]
  },
  {
   "cell_type": "code",
   "execution_count": 3,
   "metadata": {},
   "outputs": [],
   "source": [
    "from flaui.lib.enums import UIAutomationTypes\n",
    "from flaui.wrappers.ui_automation import UIAutomation, Application\n",
    "# , Application, AutomationElementExtensions\n",
    "\n",
    "uiautomation = UIAutomation(UIAutomationTypes.UIA3)"
   ]
  },
  {
   "cell_type": "code",
   "execution_count": 4,
   "metadata": {},
   "outputs": [],
   "source": [
    "automation = uiautomation.automation\n",
    "cf = automation.ConditionFactory"
   ]
  },
  {
   "cell_type": "code",
   "execution_count": 5,
   "metadata": {},
   "outputs": [],
   "source": [
    "application = Application.Attach('BankSystem.exe')"
   ]
  },
  {
   "cell_type": "code",
   "execution_count": 6,
   "metadata": {},
   "outputs": [
    {
     "data": {
      "text/plain": [
       "'WindowsForms10.Window.8.app.0.141b42a_r9_ad1'"
      ]
     },
     "execution_count": 6,
     "metadata": {},
     "output_type": "execute_result"
    }
   ],
   "source": [
    "main_window  = application.GetMainWindow(automation)\n",
    "main_window.ClassName"
   ]
  },
  {
   "cell_type": "code",
   "execution_count": 7,
   "metadata": {},
   "outputs": [],
   "source": [
    "element = main_window.FindFirstChild(cf.ByAutomationId('tableLayoutPanel1'))"
   ]
  },
  {
   "cell_type": "code",
   "execution_count": 21,
   "metadata": {},
   "outputs": [],
   "source": [
    "from FlaUI.Core.AutomationElements import AutomationElementExtensions\n",
    "s = AutomationElementExtensions.AsGrid(element)\n",
    "s.SelectedItems"
   ]
  },
  {
   "cell_type": "code",
   "execution_count": 110,
   "metadata": {},
   "outputs": [
    {
     "data": {
      "text/plain": [
       "<__main__.AutomationElement at 0x2211c78bfd0>"
      ]
     },
     "execution_count": 110,
     "metadata": {},
     "output_type": "execute_result"
    }
   ],
   "source": [
    "element.find_first_by_x_path('Button')"
   ]
  },
  {
   "cell_type": "code",
   "execution_count": null,
   "metadata": {},
   "outputs": [],
   "source": [
    "[print(f'def {snake_case(_)}(self):self.element.{_}') for _ in dir(element)]"
   ]
  },
  {
   "cell_type": "code",
   "execution_count": null,
   "metadata": {},
   "outputs": [],
   "source": [
    "for _ in attrs:\n",
    "    try:\n",
    "        print(getattr(Application,_))\n",
    "    except:\n",
    "        print(_)"
   ]
  },
  {
   "cell_type": "code",
   "execution_count": null,
   "metadata": {},
   "outputs": [],
   "source": [
    "from re import sub\n",
    "\n",
    "def snake_case(s):\n",
    "  return '_'.join(\n",
    "    sub('([A-Z][a-z]+)', r' \\1',\n",
    "    sub('([A-Z]+)', r' \\1',\n",
    "    s.replace('-', ' '))).split()).lower()"
   ]
  },
  {
   "cell_type": "code",
   "execution_count": null,
   "metadata": {},
   "outputs": [],
   "source": [
    "element = AutomationElementExtensions.AsComboBox(element)"
   ]
  },
  {
   "cell_type": "code",
   "execution_count": null,
   "metadata": {},
   "outputs": [],
   "source": [
    "element.Items(au)"
   ]
  },
  {
   "cell_type": "code",
   "execution_count": null,
   "metadata": {},
   "outputs": [],
   "source": [
    "from FlaUI.Core.Definitions import ControlType\n",
    "ControlType.TitleBar"
   ]
  },
  {
   "cell_type": "code",
   "execution_count": null,
   "metadata": {},
   "outputs": [],
   "source": [
    "from FlaUI.Core.AutomationElements import AutomationElementExtensions"
   ]
  },
  {
   "cell_type": "code",
   "execution_count": null,
   "metadata": {},
   "outputs": [],
   "source": [
    "from flaui.lib.cast_type_converter import TypeConverter\n",
    "windows = TypeConverter.cast_to_py_list(uiautomation.application.GetAllTopLevelWindows(automation))"
   ]
  },
  {
   "cell_type": "code",
   "execution_count": null,
   "metadata": {},
   "outputs": [],
   "source": [
    "s = AutomationElementExtensions.AsWindow(windows[0])\n",
    "s.Name"
   ]
  },
  {
   "cell_type": "code",
   "execution_count": null,
   "metadata": {},
   "outputs": [],
   "source": [
    "dir(uiautomation.application.Attach)"
   ]
  },
  {
   "cell_type": "code",
   "execution_count": null,
   "metadata": {},
   "outputs": [],
   "source": [
    "from typing import Any, List, Dict\n",
    "from re import sub\n",
    "\n",
    "def snake_case(s):\n",
    "  return '_'.join(\n",
    "    sub('([A-Z][a-z]+)', r' \\1',\n",
    "    sub('([A-Z]+)', r' \\1',\n",
    "    s.replace('-', ' '))).split()).lower()\n",
    "def build_functions(list_fun: List[str], parent: Any, args: List[str], primary_text: str, secondary_text: str, args_description: Dict[str, str],static:bool = False):\n",
    "    print('class AutoGeneratedClass:')\n",
    "    for _ in list_fun:\n",
    "        if static:\n",
    "            print('@staticmethod')\n",
    "        print(f'def {snake_case(_)}({\", \".join(args)}):')\n",
    "        print(f'\\t\"\"\"{primary_text} {_}')\n",
    "        print(f'\\t{secondary_text} {_}')\n",
    "        print('\\n')\n",
    "        for param in args:\n",
    "            print(f'\\t:param: {param}: {args_description[param]}')\n",
    "        print('\\t\"\"\"')\n",
    "        print(f'\\treturn {parent}.{_}({\", \".join(args)})')\n",
    "        print('\\n')\n"
   ]
  },
  {
   "cell_type": "code",
   "execution_count": null,
   "metadata": {},
   "outputs": [],
   "source": [
    "build_functions(['Attach',\n",
    " 'AttachOrLaunch',\n",
    " 'Close',\n",
    " 'CloseTimeout',\n",
    " 'Dispose',\n",
    " 'Equals',\n",
    " 'ExitCode',\n",
    " 'Finalize',\n",
    " 'GetAllTopLevelWindows',\n",
    " 'GetHashCode',\n",
    " 'GetMainWindow',\n",
    " 'GetType',\n",
    " 'HasExited',\n",
    " 'IsStoreApp',\n",
    " 'Kill',\n",
    " 'Launch',\n",
    " 'LaunchStoreApp',\n",
    " 'MainWindowHandle',\n",
    " 'MemberwiseClone',\n",
    " 'Name',\n",
    " 'Overloads',\n",
    " 'ProcessId',\n",
    " 'ReferenceEquals',\n",
    " 'ToString',\n",
    " 'WaitWhileBusy',\n",
    " 'WaitWhileMainHandleIsMissing'],'self.application',['element'],'Convert as','Converts element as',{'element':'Generic FlaUI Element'},False)"
   ]
  },
  {
   "cell_type": "code",
   "execution_count": null,
   "metadata": {},
   "outputs": [],
   "source": [
    "application = uiautomation.application\n",
    "main_window = application.GetMainWindow(automation)\n",
    "child = main_window.FindFirstChild()"
   ]
  }
 ],
 "metadata": {
  "kernelspec": {
   "display_name": "flaui-uiautomation-wrapper-l8qbczbJ-py3.10",
   "language": "python",
   "name": "python3"
  },
  "language_info": {
   "codemirror_mode": {
    "name": "ipython",
    "version": 3
   },
   "file_extension": ".py",
   "mimetype": "text/x-python",
   "name": "python",
   "nbconvert_exporter": "python",
   "pygments_lexer": "ipython3",
   "version": "3.10.7 (tags/v3.10.7:6cc6b13, Sep  5 2022, 14:08:36) [MSC v.1933 64 bit (AMD64)]"
  },
  "orig_nbformat": 4,
  "vscode": {
   "interpreter": {
    "hash": "f5117b933745454651bb617bd765a222433fab58acf6b20ebf6de505996a52bb"
   }
  }
 },
 "nbformat": 4,
 "nbformat_minor": 2
}
