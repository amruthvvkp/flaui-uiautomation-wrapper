{
 "cells": [
  {
   "cell_type": "code",
   "execution_count": 3,
   "metadata": {},
   "outputs": [
    {
     "name": "stderr",
     "output_type": "stream",
     "text": [
      "2022-06-10 20:15:18.478 | INFO     | flaui.lib.pythonnet_bridge:setup_pythonnet_bridge:27 - Added FlaUI.Core DLL from C:\\Users\\amrut\\PythonProjects\\flaui-uiautomation-wrapper\\src\\flaui\\bin\\FlaUI.Core.dll to PythonNet bridge\n",
      "2022-06-10 20:15:18.526 | INFO     | flaui.lib.pythonnet_bridge:setup_pythonnet_bridge:27 - Added FlaUI.UIA2 DLL from C:\\Users\\amrut\\PythonProjects\\flaui-uiautomation-wrapper\\src\\flaui\\bin\\FlaUI.UIA2.dll to PythonNet bridge\n",
      "2022-06-10 20:15:18.582 | INFO     | flaui.lib.pythonnet_bridge:setup_pythonnet_bridge:27 - Added FlaUI.UIA3 DLL from C:\\Users\\amrut\\PythonProjects\\flaui-uiautomation-wrapper\\src\\flaui\\bin\\FlaUI.UIA3.dll to PythonNet bridge\n",
      "2022-06-10 20:15:18.601 | INFO     | flaui.lib.pythonnet_bridge:setup_pythonnet_bridge:27 - Added Interop.UIAutomationClient DLL from C:\\Users\\amrut\\PythonProjects\\flaui-uiautomation-wrapper\\src\\flaui\\bin\\Interop.UIAutomationClient.dll to PythonNet bridge\n"
     ]
    }
   ],
   "source": [
    "from flaui.lib.pythonnet_bridge import setup_pythonnet_bridge\n",
    "\n",
    "setup_pythonnet_bridge(dll_list=[\n",
    "    'FlaUI.Core', 'FlaUI.UIA2', 'FlaUI.UIA3', 'Interop.UIAutomationClient'\n",
    "])\n"
   ]
  },
  {
   "cell_type": "code",
   "execution_count": 3,
   "metadata": {},
   "outputs": [],
   "source": [
    "from FlaUI.Core import Application"
   ]
  },
  {
   "cell_type": "code",
   "execution_count": 9,
   "metadata": {},
   "outputs": [],
   "source": [
    "from pathlib import Path\n",
    "destination_path = str(Path(r'C:\\Users\\amrut\\PythonProjects\\flaui-uiautomation-wrapper\\src\\flaui\\wrappers\\sample.py'))"
   ]
  },
  {
   "cell_type": "code",
   "execution_count": 28,
   "metadata": {},
   "outputs": [
    {
     "data": {
      "text/plain": [
       "['Attach',\n",
       " 'AttachOrLaunch',\n",
       " 'Close',\n",
       " 'CloseTimeout',\n",
       " 'Dispose',\n",
       " 'Equals',\n",
       " 'ExitCode',\n",
       " 'Finalize',\n",
       " 'GetAllTopLevelWindows',\n",
       " 'GetHashCode',\n",
       " 'GetMainWindow',\n",
       " 'GetType',\n",
       " 'HasExited',\n",
       " 'IsStoreApp',\n",
       " 'Kill',\n",
       " 'Launch',\n",
       " 'LaunchStoreApp',\n",
       " 'MainWindowHandle',\n",
       " 'MemberwiseClone',\n",
       " 'Name',\n",
       " 'Overloads',\n",
       " 'ProcessId',\n",
       " 'ReferenceEquals',\n",
       " 'ToString',\n",
       " 'WaitWhileBusy',\n",
       " 'WaitWhileMainHandleIsMissing']"
      ]
     },
     "execution_count": 28,
     "metadata": {},
     "output_type": "execute_result"
    }
   ],
   "source": [
    "attrs = [_ for _ in dir(Application) if '_' not in _]\n",
    "attrs"
   ]
  },
  {
   "cell_type": "code",
   "execution_count": 29,
   "metadata": {},
   "outputs": [
    {
     "name": "stdout",
     "output_type": "stream",
     "text": [
      "<unbound method 'Attach'>\n",
      "<unbound method 'AttachOrLaunch'>\n",
      "<unbound method 'Close'>\n",
      "CloseTimeout\n",
      "<unbound method 'Dispose'>\n",
      "<unbound method 'Equals'>\n",
      "ExitCode\n",
      "<unbound method 'Finalize'>\n",
      "<unbound method 'GetAllTopLevelWindows'>\n",
      "<unbound method 'GetHashCode'>\n",
      "<unbound method 'GetMainWindow'>\n",
      "<unbound method 'GetType'>\n",
      "HasExited\n",
      "IsStoreApp\n",
      "<unbound method 'Kill'>\n",
      "<unbound method 'Launch'>\n",
      "<unbound method 'LaunchStoreApp'>\n",
      "MainWindowHandle\n",
      "<unbound method 'MemberwiseClone'>\n",
      "Name\n",
      "FlaUI.Core.Application(System.Diagnostics.Process, Boolean)\n",
      "FlaUI.Core.Application(Int32, Boolean)\n",
      "ProcessId\n",
      "<unbound method 'ReferenceEquals'>\n",
      "<unbound method 'ToString'>\n",
      "<unbound method 'WaitWhileBusy'>\n",
      "<unbound method 'WaitWhileMainHandleIsMissing'>\n"
     ]
    }
   ],
   "source": [
    "for _ in attrs:\n",
    "    try:\n",
    "        print(getattr(Application,_))\n",
    "    except:\n",
    "        print(_)"
   ]
  },
  {
   "cell_type": "code",
   "execution_count": 93,
   "metadata": {},
   "outputs": [],
   "source": [
    "from re import sub\n",
    "\n",
    "def snake_case(s):\n",
    "  return '_'.join(\n",
    "    sub('([A-Z][a-z]+)', r' \\1',\n",
    "    sub('([A-Z]+)', r' \\1',\n",
    "    s.replace('-', ' '))).split()).lower()"
   ]
  },
  {
   "cell_type": "code",
   "execution_count": 52,
   "metadata": {},
   "outputs": [
    {
     "data": {
      "text/plain": [
       "mappingproxy({'__repr__': <slot wrapper '__repr__' of 'Application' objects>,\n",
       "              '__hash__': <slot wrapper '__hash__' of 'Application' objects>,\n",
       "              '__call__': <slot wrapper '__call__' of 'Application' objects>,\n",
       "              '__str__': <slot wrapper '__str__' of 'Application' objects>,\n",
       "              '__lt__': <slot wrapper '__lt__' of 'Application' objects>,\n",
       "              '__le__': <slot wrapper '__le__' of 'Application' objects>,\n",
       "              '__eq__': <slot wrapper '__eq__' of 'Application' objects>,\n",
       "              '__ne__': <slot wrapper '__ne__' of 'Application' objects>,\n",
       "              '__gt__': <slot wrapper '__gt__' of 'Application' objects>,\n",
       "              '__ge__': <slot wrapper '__ge__' of 'Application' objects>,\n",
       "              '__iter__': <slot wrapper '__iter__' of 'Application' objects>,\n",
       "              '__init__': <slot wrapper '__init__' of 'Application' objects>,\n",
       "              '__getitem__': <slot wrapper '__getitem__' of 'Application' objects>,\n",
       "              '__setitem__': <slot wrapper '__setitem__' of 'Application' objects>,\n",
       "              '__delitem__': <slot wrapper '__delitem__' of 'Application' objects>,\n",
       "              '__new__': <function Application.__new__(*args, **kwargs)>,\n",
       "              '__doc__': 'Void .ctor(System.Diagnostics.Process, Boolean)\\r\\nVoid .ctor(Int32, Boolean)',\n",
       "              '__module__': 'FlaUI.Core',\n",
       "              'get_ExitCode': <method 'get_ExitCode'>,\n",
       "              'get_CloseTimeout': <method 'get_CloseTimeout'>,\n",
       "              'Name': <property 'Name'>,\n",
       "              'Launch': <method 'Launch'>,\n",
       "              'GetAllTopLevelWindows': <method 'GetAllTopLevelWindows'>,\n",
       "              'set_CloseTimeout': <method 'set_CloseTimeout'>,\n",
       "              'get_Name': <method 'get_Name'>,\n",
       "              'LaunchStoreApp': <method 'LaunchStoreApp'>,\n",
       "              'get_IsStoreApp': <method 'get_IsStoreApp'>,\n",
       "              'get_ProcessId': <method 'get_ProcessId'>,\n",
       "              'GetMainWindow': <method 'GetMainWindow'>,\n",
       "              'ProcessId': <property 'ProcessId'>,\n",
       "              'Attach': <method 'Attach'>,\n",
       "              'AttachOrLaunch': <method 'AttachOrLaunch'>,\n",
       "              'IsStoreApp': <property 'IsStoreApp'>,\n",
       "              'CloseTimeout': <property 'CloseTimeout'>,\n",
       "              'Kill': <method 'Kill'>,\n",
       "              'Dispose': <method 'Dispose'>,\n",
       "              'Close': <method 'Close'>,\n",
       "              'WaitWhileMainHandleIsMissing': <method 'WaitWhileMainHandleIsMissing'>,\n",
       "              'get_HasExited': <method 'get_HasExited'>,\n",
       "              'HasExited': <property 'HasExited'>,\n",
       "              'MainWindowHandle': <property 'MainWindowHandle'>,\n",
       "              'get_MainWindowHandle': <method 'get_MainWindowHandle'>,\n",
       "              'WaitWhileBusy': <method 'WaitWhileBusy'>,\n",
       "              'ExitCode': <property 'ExitCode'>,\n",
       "              '__overloads__': FlaUI.Core.Application(System.Diagnostics.Process, Boolean)\n",
       "              FlaUI.Core.Application(Int32, Boolean),\n",
       "              'Overloads': FlaUI.Core.Application(System.Diagnostics.Process, Boolean)\n",
       "              FlaUI.Core.Application(Int32, Boolean)})"
      ]
     },
     "execution_count": 52,
     "metadata": {},
     "output_type": "execute_result"
    }
   ],
   "source": [
    "# for k, v in Application.__dict__.items():\n",
    "#     if '_' not in k:\n",
    "#         print(k, v)\n",
    "#     if 'ProcessId' in k:\n",
    "#         sample = v\n",
    "Application.__dict__"
   ]
  },
  {
   "cell_type": "code",
   "execution_count": 127,
   "metadata": {},
   "outputs": [],
   "source": [
    "def write_to_file(destination_path, line):\n",
    "    print(line)\n",
    "    \n",
    "def generate_wrappers(element, destination_path,element_name):\n",
    "    element_docstring = getattr(element,'__doc__')\n",
    "    element_module = getattr(element,'__module__')\n",
    "    write_to_file(destination_path,f'\"\"\"Auto-Generated wrapper for {element_name} from the {Application} from the module - {element_module}/n')\n",
    "    write_to_file(destination_path,f'{element_docstring}\"\"\"')\n",
    "    \n",
    "    properties, methods = [],[]\n",
    "    for k, v in element.__dict__.items():\n",
    "        if '_' not in k and 'method' in str(v).lower():\n",
    "            methods.append(k)\n",
    "        elif '_' not in k and 'property' in str(v).lower():\n",
    "            properties.append(k)\n",
    "    write_to_file(destination_path,'\\n')\n",
    "    write_to_file(destination_path,f'from {element_module} import {element_name}')\n",
    "    write_to_file(destination_path,'\\n')\n",
    "    \n",
    "    class_prep = f'class {str(element_name).title()}:\\n\\tdef __init__(self):\\n\\t\\tself.{snake_case(element_name)} = {element_name}\\n'\n",
    "    write_to_file(destination_path,class_prep)\n",
    "    \n",
    "    for _ in properties:\n",
    "        write_to_file(destination_path,f'\\t\\tself.{snake_case(_)} = self.{snake_case(element_name)}.{_}')\n",
    "    write_to_file(destination_path,'\\n')\n",
    "    for _ in methods:\n",
    "        write_to_file(destination_path,f'\\tdef {snake_case(_)}(self):')\n",
    "        # write_to_file(destination_path,f'\\t\"\"\"\\n{_.__doc__}\\n\\n\\t\"\"\"')\n",
    "        write_to_file(destination_path,f'\\t\\treturn self.{snake_case(element_name)}.{_}()\\n')\n",
    "            \n",
    "    "
   ]
  },
  {
   "cell_type": "code",
   "execution_count": 128,
   "metadata": {},
   "outputs": [
    {
     "name": "stdout",
     "output_type": "stream",
     "text": [
      "\"\"\"Auto-Generated wrapper for Application from the <class 'FlaUI.Core.Application'> from the module - FlaUI.Core/n\n",
      "Void .ctor(System.Diagnostics.Process, Boolean)\n",
      "Void .ctor(Int32, Boolean)\"\"\"\n",
      "\n",
      "\n",
      "from FlaUI.Core import Application\n",
      "\n",
      "\n",
      "class Application:\n",
      "\tdef __init__(self):\n",
      "\t\tself.application = Application\n",
      "\n",
      "\t\tself.name = self.application.Name\n",
      "\t\tself.process_id = self.application.ProcessId\n",
      "\t\tself.is_store_app = self.application.IsStoreApp\n",
      "\t\tself.close_timeout = self.application.CloseTimeout\n",
      "\t\tself.has_exited = self.application.HasExited\n",
      "\t\tself.main_window_handle = self.application.MainWindowHandle\n",
      "\t\tself.exit_code = self.application.ExitCode\n",
      "\n",
      "\n",
      "\tdef launch(self):\n",
      "\t\treturn self.application.Launch()\n",
      "\n",
      "\tdef get_all_top_level_windows(self):\n",
      "\t\treturn self.application.GetAllTopLevelWindows()\n",
      "\n",
      "\tdef launch_store_app(self):\n",
      "\t\treturn self.application.LaunchStoreApp()\n",
      "\n",
      "\tdef get_main_window(self):\n",
      "\t\treturn self.application.GetMainWindow()\n",
      "\n",
      "\tdef attach(self):\n",
      "\t\treturn self.application.Attach()\n",
      "\n",
      "\tdef attach_or_launch(self):\n",
      "\t\treturn self.application.AttachOrLaunch()\n",
      "\n",
      "\tdef kill(self):\n",
      "\t\treturn self.application.Kill()\n",
      "\n",
      "\tdef dispose(self):\n",
      "\t\treturn self.application.Dispose()\n",
      "\n",
      "\tdef close(self):\n",
      "\t\treturn self.application.Close()\n",
      "\n",
      "\tdef wait_while_main_handle_is_missing(self):\n",
      "\t\treturn self.application.WaitWhileMainHandleIsMissing()\n",
      "\n",
      "\tdef wait_while_busy(self):\n",
      "\t\treturn self.application.WaitWhileBusy()\n",
      "\n"
     ]
    }
   ],
   "source": [
    "generate_wrappers(Application,destination_path,'Application')"
   ]
  },
  {
   "cell_type": "code",
   "execution_count": 4,
   "metadata": {},
   "outputs": [],
   "source": []
  }
 ],
 "metadata": {
  "kernelspec": {
   "display_name": "flaui-uiautomation-wrapper-l8qbczbJ-py3.10",
   "language": "python",
   "name": "python3"
  },
  "language_info": {
   "codemirror_mode": {
    "name": "ipython",
    "version": 3
   },
   "file_extension": ".py",
   "mimetype": "text/x-python",
   "name": "python",
   "nbconvert_exporter": "python",
   "pygments_lexer": "ipython3",
   "version": "3.10.7 (tags/v3.10.7:6cc6b13, Sep  5 2022, 14:08:36) [MSC v.1933 64 bit (AMD64)]"
  },
  "orig_nbformat": 4,
  "vscode": {
   "interpreter": {
    "hash": "f5117b933745454651bb617bd765a222433fab58acf6b20ebf6de505996a52bb"
   }
  }
 },
 "nbformat": 4,
 "nbformat_minor": 2
}
