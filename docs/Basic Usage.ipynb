{
  "cells": [
    {
      "cell_type": "markdown",
      "metadata": {},
      "source": [
        "# Usage of FlaUI for Python\n",
        "\n",
        "FlaUI is a .NET library which helps with automated UI testing of Windows applications (Win32, WinForms, WPF, Store Apps, ...). It is based on native UI Automation libraries from Microsoft and therefore kind of a wrapper around them. FlaUI wraps almost everything from the UI Automation libraries but also provides the native objects in case someone has a special need which is not covered (yet) by FlaUI. Some ideas for things not yet implemented are at the end of this page.\n",
        "\n",
        "FlaUI.UIA3 is the .NET 4.5 version of FlaUI for the UI Automation library which is also used by Microsoft for CodedUI.\n",
        "\n",
        "This is just a quick example of how it looks like to automate a WPF Application/WinForms application with FlaUI. It is not a full documentation.\n"
      ]
    },
    {
      "cell_type": "markdown",
      "metadata": {},
      "source": [
        "## Setting up CLR bridge\n",
        "\n",
        "We need to setup the CLR bridge to be able to use FlaUI from Python. This is done by importing the clr module and adding the path to the FlaUI dlls to the sys.path. The path is relative to the current file.\n",
        "\n",
        "The required FlaUI binaries are packaged into the disted Python package. DO NOTE that you need to run this function only once before you can call any further classes/methods from FlaUI.\n"
      ]
    },
    {
      "cell_type": "code",
      "execution_count": 1,
      "metadata": {},
      "outputs": [
        {
          "name": "stderr",
          "output_type": "stream",
          "text": [
            "2023-10-01 18:29:03.519 | INFO     | flaui.lib.pythonnet_bridge:setup_pythonnet_bridge:20 - Added FlaUI.Core.dll DLL to Python.NET bridge\n",
            "2023-10-01 18:29:03.535 | INFO     | flaui.lib.pythonnet_bridge:setup_pythonnet_bridge:20 - Added FlaUI.UIA2.dll DLL to Python.NET bridge\n",
            "2023-10-01 18:29:03.554 | INFO     | flaui.lib.pythonnet_bridge:setup_pythonnet_bridge:20 - Added FlaUI.UIA3.dll DLL to Python.NET bridge\n",
            "2023-10-01 18:29:03.554 | INFO     | flaui.lib.pythonnet_bridge:setup_pythonnet_bridge:20 - Added Interop.UIAutomationClient.dll DLL to Python.NET bridge\n",
            "2023-10-01 18:29:03.554 | INFO     | flaui.lib.pythonnet_bridge:setup_pythonnet_bridge:24 - Python.NET bridge setup complete\n"
          ]
        }
      ],
      "source": [
        "from flaui.lib.pythonnet_bridge import setup_pythonnet_bridge\n",
        "\n",
        "setup_pythonnet_bridge()"
      ]
    },
    {
      "cell_type": "markdown",
      "metadata": {},
      "source": [
        "## Using FlaUI from Python\n",
        "\n",
        "Now we can use FlaUI from Python. First we need to import the FlaUI.UIA3 namespace. This namespace contains all the classes we need to automate a WPF application.\n",
        "\n",
        "FlaUI has 2 valid namespaces that can be used for automation. FlaUI.UIA2 is the old namespace which uses the UI Automation library from .NET 3.5. This library is deprecated and should not be used anymore. The new library is FlaUI.UIA3 which uses the UI Automation library from .NET 4.5. This library is also used by Microsoft for CodedUI.\n",
        "\n",
        "FlaUI.UIA2 is still applicable on certain frameworks like WinForms or WPF. For WinForms, FlaUI.UIA2 is the only applicable library.\n",
        "\n",
        "### Upcoming changes for planned v1.0.0 release\n",
        "\n",
        "When I dist v1.0.0 there would be major changes in the way you import the FlaUI.UIA3 namespace. The new way would be:\n",
        "\n",
        "```python\n",
        "from flaui.uia3 import UIA3Automation # Python\n",
        "```\n",
        "\n",
        "Comparing this to the old way:\n",
        "\n",
        "```csharp\n",
        "using FlaUI.UIA3; // C#\n",
        "```\n",
        "\n",
        "```python\n",
        "from FlaUI.UIA3 import UIA3Automation # Python\n",
        "```\n",
        "\n",
        "If you compare the old method, ideally examples in this document import the C# namespace and then use the classes from the namespace. The new method would import the Python namespace and then use the classes from the namespace. This is a major change which should ease the adoption of FlaUI for Python users.\n"
      ]
    },
    {
      "cell_type": "markdown",
      "metadata": {},
      "source": [
        "## Automating a WPF Application\n",
        "\n",
        "Now we can start automating a WPF application. First we need to get an automation object for the application. This is done by creating an Application object and attaching to the process. The process can be started by the Application object itself or by using the System.Diagnostics.Process class.\n",
        "\n",
        "```python\n",
        "from FlaUI.UIA3 import UIA3Automation\n",
        "```\n"
      ]
    },
    {
      "cell_type": "code",
      "execution_count": 2,
      "metadata": {},
      "outputs": [],
      "source": [
        "from FlaUI.UIA3 import UIA3Automation\n",
        "from FlaUI.Core import Application"
      ]
    },
    {
      "cell_type": "code",
      "execution_count": 3,
      "metadata": {},
      "outputs": [],
      "source": [
        "application = Application.Launch(r\"C:\\Users\\\\Amruth.Vithala\\\\Projects\\flaui-uiautomation-wrapper\\test_applications\\\\WPFApplication\\\\WpfApplication.exe\")"
      ]
    },
    {
      "cell_type": "markdown",
      "metadata": {},
      "source": [
        "You could attach to an existing application by passing in the Process name as in `notepad.exe` or Process ID. If you want to start a new application, you can pass in the path to the executable and the arguments to the Application constructor.\n",
        "\n",
        "```python\n",
        "from FlaUI.UIA3 import UIA3Automation\n",
        "\n",
        "automation = UIA3Automation()\n",
        "app = automation.launch('C:\\Windows\\System32\\notepad.exe')\n",
        "```\n",
        "\n",
        "Now we can start automating the application. The first thing we want to do is to get the main window of the application. This is done by calling the GetMainWindow method on the Application object. This method returns an AutomationElement which represents the main window of the application.\n",
        "\n",
        "```python\n",
        "from FlaUI.UIA3 import UIA3Automation\n",
        "\n",
        "automation = UIA3Automation()\n",
        "app = automation.launch('C:\\Windows\\System32\\notepad.exe')\n",
        "mainWindow = app.getMainWindow(automation)\n",
        "```\n",
        "\n",
        "Here's an example of attaching ot an existing application and getting the main window:\n",
        "\n",
        "```python\n",
        "from FlaUI.UIA3 import UIA3Automation\n",
        "\n",
        "automation = UIA3Automation()\n",
        "app = automation.attach('notepad')\n",
        "mainWindow = app.getMainWindow()\n",
        "```\n",
        "\n",
        "If you are working with multiple applications and want to use this library, create an instance of the application by using `application.launch` or `application.attach` and then use the `application.getMainWindow` method to get the main window of the application. This is the starting point for all automation.\n"
      ]
    },
    {
      "cell_type": "code",
      "execution_count": 4,
      "metadata": {},
      "outputs": [
        {
          "name": "stdout",
          "output_type": "stream",
          "text": [
            "Window title is - FlaUI WPF Test App\n"
          ]
        }
      ],
      "source": [
        "\n",
        "uia3_automation = UIA3Automation()\n",
        "\n",
        "main_window = application.GetMainWindow(uia3_automation)\n",
        "print(f\"Window title is - {main_window.Title}\")\n"
      ]
    },
    {
      "cell_type": "markdown",
      "metadata": {},
      "source": [
        "### Finding elements with XPath\n",
        "\n",
        "FlaUI supports finding elements with XPath. This is a very powerful way to find elements. The XPath is evaluated by the UI Automation library and therefore the XPath is not limited to the properties of the elements but can also use the properties of the elements parents. This is very useful for example to find a button with a certain text. The text of a button is not a property of the button itself but of the text element inside the button. With XPath, this is no problem.\n"
      ]
    },
    {
      "cell_type": "code",
      "execution_count": 5,
      "metadata": {},
      "outputs": [
        {
          "name": "stdout",
          "output_type": "stream",
          "text": [
            "Element name is - Simple Controls\n"
          ]
        }
      ],
      "source": [
        "x_path_element = main_window.FindFirstByXPath(\"/Tab/TabItem[@Name='Simple Controls']\")\n",
        "print(f\"Element name is - {x_path_element.Name}\")"
      ]
    },
    {
      "cell_type": "markdown",
      "metadata": {},
      "source": [
        "## Finding elements with conditions\n",
        "\n",
        "FlaUI supports finding elements with conditions. This is a very powerful way to find elements. The conditions are evaluated by the UI Automation library and therefore the conditions are not limited to the properties of the elements but can also use the properties of the elements parents. This is very useful for example to find a button with a certain text. The text of a button is not a property of the button itself but of the text element inside the button. With conditions, this is no problem.\n",
        "\n",
        "To use conditions, we need to invoke a condition factory from the automation object. The condition factory is used to create conditions. The conditions can then be used to find elements.\n"
      ]
    },
    {
      "cell_type": "markdown",
      "metadata": {},
      "source": [
        "You can use conditions to find elements by using the `findFirst` method on the `AutomationElement` class. This method takes a condition as parameter and returns the first element which matches the condition. If no element matches the condition, null is returned.\n",
        "\n",
        "```python\n",
        "condition_factory = uia3_automation.ConditionFactory\n",
        "\n",
        "name_condition = condition_factory.ByName(\"Simple Controls\")\n",
        "element.FindFirstChild(name_condition)\n",
        "```\n"
      ]
    },
    {
      "cell_type": "code",
      "execution_count": 6,
      "metadata": {},
      "outputs": [
        {
          "name": "stdout",
          "output_type": "stream",
          "text": [
            "Element name is - Simple Controls\n"
          ]
        }
      ],
      "source": [
        "from FlaUI.Core.Definitions import ControlType\n",
        "\n",
        "condition_factory = uia3_automation.ConditionFactory\n",
        "element_by_condition = main_window.FindFirstChild(condition_factory.ByControlType(ControlType.Tab)).FindFirstChild(condition_factory.ByName(\"Simple Controls\"))\n",
        "print(f\"Element name is - {element_by_condition.Name}\")"
      ]
    },
    {
      "cell_type": "markdown",
      "metadata": {},
      "source": [
        "## Usage for WinForms applications or any applications using UIA2\n",
        "\n",
        "FlaUI.UIA2 is the old namespace which uses the UI Automation library from .NET 3.5. This library is deprecated and should not be used anymore. The new library is FlaUI.UIA3 which uses the UI Automation library from .NET 4.5. This library is also used by Microsoft for CodedUI.\n",
        "\n",
        "FlaUI.UIA2 is still applicable on certain frameworks like WinForms or WPF. For WinForms, FlaUI.UIA2 is the only applicable library.\n",
        "\n",
        "Usage of this library is almost the same as for FlaUI.UIA3. The only difference is that you need to use the `UIA2Automation` class instead of the `UIA3Automation` class.\n",
        "\n",
        "```python\n",
        "from FlaUI.UIA2 import UIA2Automation\n",
        "\n",
        "automation = UIA2Automation()\n",
        "app = automation.launch('C:\\Windows\\System32\\notepad.exe')\n",
        "mainWindow = app.getMainWindow(automation)\n",
        "```\n"
      ]
    },
    {
      "cell_type": "markdown",
      "metadata": {},
      "source": [
        "## Close the application\n",
        "\n",
        "To close the application, you can use the `Close` method on the `Application` object.\n",
        "\n",
        "```python\n",
        "application.close()\n",
        "```\n"
      ]
    },
    {
      "cell_type": "code",
      "execution_count": 7,
      "metadata": {},
      "outputs": [
        {
          "data": {
            "text/plain": [
              "True"
            ]
          },
          "execution_count": 7,
          "metadata": {},
          "output_type": "execute_result"
        }
      ],
      "source": [
        "# Close the application\n",
        "application.Close()"
      ]
    },
    {
      "cell_type": "markdown",
      "metadata": {},
      "source": [
        "## End-Notes\n",
        "\n",
        "This is just a quick example of how it looks like to automate a WPF Application/WinForms application with FlaUI. It is not a full documentation.\n",
        "\n",
        "If you intend to use this library alongside existing implementations of other test frameworks like [Robot-FlaUI](https://github.com/GDATASoftwareAG/robotframework-flaui), you should create Robot keywords that wrap the functionality of this library. This way you can use the keywords from Robot-FlaUI and the keywords from this library in the same test suite.\n",
        "\n",
        "### Example with Robot-FlaUI\n",
        "\n",
        "#### Robot file\n",
        "\n",
        "```robot\n",
        "*** Settings ***\n",
        "Library    FlaUILibrary\n",
        "\n",
        "*** Test Cases ***\n",
        "Test\n",
        "    Launch Application    C:\\\\Windows\\\\System32\\\\notepad.exe\n",
        "    ${mainWindow}=    Get Main Window\n",
        "    ${button}=    Find Element    ByXPath    //Button[@Name='OK']\n",
        "    Click    ${button}\n",
        "    Close Application\n",
        "```\n",
        "\n",
        "#### Python file with FlaUI\n",
        "\n",
        "```python\n",
        "from FlaUI.UIA3 import UIA3Automation\n",
        "\n",
        "automation = UIA3Automation()\n",
        "app = automation.launch('C:\\Windows\\System32\\notepad.exe')\n",
        "mainWindow = app.getMainWindow(automation)\n",
        "button = mainWindow.findFirstByXPath('//Button[@Name=\"OK\"]')\n",
        "button.click()\n",
        "app.close()\n",
        "```\n"
      ]
    }
  ],
  "metadata": {
    "kernelspec": {
      "display_name": "flaui-uiautomation-wrapper-l8qbczbJ-py3.10",
      "language": "python",
      "name": "python3"
    },
    "language_info": {
      "codemirror_mode": {
        "name": "ipython",
        "version": 3
      },
      "file_extension": ".py",
      "mimetype": "text/x-python",
      "name": "python",
      "nbconvert_exporter": "python",
      "pygments_lexer": "ipython3",
      "version": "3.10.7"
    },
    "orig_nbformat": 4
  },
  "nbformat": 4,
  "nbformat_minor": 2
}
